{
 "cells": [
  {
   "cell_type": "markdown",
   "id": "4f994f97-b2f9-44e0-b1d4-4cda2f795116",
   "metadata": {},
   "source": [
    "## Setting up the environment"
   ]
  },
  {
   "cell_type": "code",
   "execution_count": null,
   "id": "c33899ff-71de-4ba0-9448-38fefd2cf0c4",
   "metadata": {},
   "outputs": [],
   "source": [
    "# move to the project directory\n",
    "import os\n",
    "os.chdir(\"..\")\n",
    "\n",
    "from pathlib import Path\n",
    "MOLECULES_FILE = 'molecules.json'\n",
    "MOLECULES_PATH = Path('.', 'data', MOLECULES_FILE)\n",
    "\n",
    "import pandas as pd\n",
    "from pprint import pprint\n",
    "\n",
    "# import the project\n",
    "from quantum_pipeline.drivers import molecule_loader"
   ]
  },
  {
   "cell_type": "code",
   "execution_count": null,
   "id": "156fbf85-ea25-4d08-a31b-270fd0d5040b",
   "metadata": {},
   "outputs": [],
   "source": [
    "molecules = molecule_loader.load_molecule(MOLECULES_PATH)\n",
    "pprint(molecules)"
   ]
  },
  {
   "cell_type": "markdown",
   "id": "1147878f-0e40-48ff-a609-fde41bb8af6b",
   "metadata": {},
   "source": [
    "### Using the VQERunner programatically"
   ]
  },
  {
   "cell_type": "code",
   "execution_count": null,
   "id": "0ae29372-fbaf-418d-92eb-7efaebd5b6a0",
   "metadata": {},
   "outputs": [],
   "source": [
    "from quantum_pipeline.runners.vqe_runner import VQERunner\n",
    "\n",
    "backend = VQERunner.default_backend()\n",
    "runner = VQERunner(\n",
    "    filepath=MOLECULES_PATH,\n",
    "    basis_set='sto3g',\n",
    "    max_iterations=1,\n",
    "    convergence_threshold=1e-6,\n",
    "    optimizer='COBYLA',\n",
    "    ansatz_reps=3\n",
    ")\n",
    "runner.run(backend)"
   ]
  },
  {
   "cell_type": "markdown",
   "id": "66d12d1c-05c8-4077-aec1-24dd731d42be",
   "metadata": {},
   "source": [
    "### See results from the IBM Quantum"
   ]
  },
  {
   "cell_type": "code",
   "execution_count": null,
   "id": "aa197ec7-c63d-43df-b692-1865616bb2e9",
   "metadata": {},
   "outputs": [],
   "source": [
    "from qiskit_ibm_runtime import QiskitRuntimeService\n",
    "import os\n",
    "\n",
    "service = QiskitRuntimeService(\n",
    "    channel=os.getenv('IBM_RUNTIME_CHANNEL'),\n",
    "    instance=os.getenv('IBM_RUNTIME_INSTANCE'),\n",
    "    token=os.getenv('IBM_RUNTIME_TOKEN')\n",
    ")\n",
    "job = service.job('cy5seka01rbg008j62mg')\n",
    "job_result = job.result()\n",
    "\n",
    "for idx, pub_result in enumerate(job_result):\n",
    "    print(f\"Expectation values for pub {idx}: {pub_result.data.evs}\")"
   ]
  },
  {
   "cell_type": "markdown",
   "id": "8d4a66b1-262f-4dff-b551-c8d2cb0ae817",
   "metadata": {},
   "source": [
    "### Example Kafka Consumer to receive messages from the pipeline"
   ]
  },
  {
   "cell_type": "code",
   "execution_count": null,
   "id": "bacaaa7d-537f-4119-9572-25168d9557ee",
   "metadata": {},
   "outputs": [],
   "source": [
    "from kafka import KafkaConsumer\n",
    "from quantum_pipeline.stream.serialization.interfaces.vqe import VQEDecoratedResultInterface\n",
    "\n",
    "class KafkaMessageConsumer:\n",
    "    def __init__(self, topic='vqe_results', bootstrap_servers='localhost:9092'):\n",
    "        self.deserializer = VQEDecoratedResultInterface()\n",
    "        self.consumer = KafkaConsumer(\n",
    "            topic,\n",
    "            bootstrap_servers=bootstrap_servers,\n",
    "            value_deserializer=self.deserializer.from_avro_bytes,\n",
    "            auto_offset_reset='earliest',\n",
    "            enable_auto_commit=True,\n",
    "            group_id='vqe_consumer_group'\n",
    "        )\n",
    "    \n",
    "    def consume_messages(self):\n",
    "        try:\n",
    "            for message in self.consumer:\n",
    "                try:\n",
    "                    # Process the message\n",
    "                    decoded_message = message.value\n",
    "                    yield decoded_message\n",
    "                except Exception as e:\n",
    "                    print(f\"Error processing message: {str(e)}\")\n",
    "                    continue\n",
    "        except Exception as e:\n",
    "            print(f\"Error in consumer: {str(e)}\")\n",
    "        finally:\n",
    "            self.consumer.close()"
   ]
  },
  {
   "cell_type": "code",
   "execution_count": null,
   "id": "5126da48-b7f9-496f-a26f-b08c717e1c62",
   "metadata": {},
   "outputs": [],
   "source": [
    "consumer = KafkaMessageConsumer()\n",
    "for msg in consumer.consume_messages():\n",
    "    print(f\"Received message: {msg}\")"
   ]
  }
 ],
 "metadata": {
  "kernelspec": {
   "display_name": "Python 3 (ipykernel)",
   "language": "python",
   "name": "python3"
  },
  "language_info": {
   "codemirror_mode": {
    "name": "ipython",
    "version": 3
   },
   "file_extension": ".py",
   "mimetype": "text/x-python",
   "name": "python",
   "nbconvert_exporter": "python",
   "pygments_lexer": "ipython3",
   "version": "3.12.3"
  }
 },
 "nbformat": 4,
 "nbformat_minor": 5
}
