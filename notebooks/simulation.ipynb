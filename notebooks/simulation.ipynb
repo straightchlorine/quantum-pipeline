{
 "cells": [
  {
   "cell_type": "markdown",
   "id": "4f994f97-b2f9-44e0-b1d4-4cda2f795116",
   "metadata": {},
   "source": [
    "## Setting up the environment"
   ]
  },
  {
   "cell_type": "code",
   "execution_count": 1,
   "id": "c33899ff-71de-4ba0-9448-38fefd2cf0c4",
   "metadata": {},
   "outputs": [],
   "source": [
    "# move to the project directory\n",
    "import os\n",
    "os.chdir(\"..\")\n",
    "\n",
    "from pathlib import Path\n",
    "MOLECULES_FILE = 'molecules.json'\n",
    "MOLECULES_DIR = Path('.', 'data', MOLECULES_FILE)\n",
    "\n",
    "import pandas as pd\n",
    "from pprint import pprint\n",
    "\n",
    "# import the project\n",
    "from quantum_simulation.drivers import molecule_loader"
   ]
  },
  {
   "cell_type": "code",
   "execution_count": 2,
   "id": "156fbf85-ea25-4d08-a31b-270fd0d5040b",
   "metadata": {},
   "outputs": [
    {
     "name": "stdout",
     "output_type": "stream",
     "text": [
      "[MoleculeInfo(symbols=['H', 'H'],\n",
      "              coords=[[0.0, 0.0, 0.0], [0.0, 0.0, 0.74]],\n",
      "              multiplicity=1,\n",
      "              charge=0,\n",
      "              units=<DistanceUnit.ANGSTROM: 'Angstrom'>,\n",
      "              masses=[1.008, 1.008])]\n"
     ]
    }
   ],
   "source": [
    "molecules = molecule_loader.load_molecule(MOLECULES_DIR)\n",
    "pprint(molecules)"
   ]
  },
  {
   "cell_type": "markdown",
   "id": "66d12d1c-05c8-4077-aec1-24dd731d42be",
   "metadata": {},
   "source": [
    "### See results from the IBM Quantum"
   ]
  },
  {
   "cell_type": "code",
   "execution_count": 9,
   "id": "aa197ec7-c63d-43df-b692-1865616bb2e9",
   "metadata": {},
   "outputs": [
    {
     "name": "stdout",
     "output_type": "stream",
     "text": [
      "Expectation values for pub 0: [-1.06959996]\n"
     ]
    }
   ],
   "source": [
    "from qiskit_ibm_runtime import QiskitRuntimeService\n",
    "import os\n",
    "\n",
    "service = QiskitRuntimeService(\n",
    "    channel=os.getenv('IBM_RUNTIME_CHANNEL'),\n",
    "    instance=os.getenv('IBM_RUNTIME_INSTANCE'),\n",
    "    token=os.getenv('IBM_RUNTIME_TOKEN')\n",
    ")\n",
    "job = service.job('cy5seka01rbg008j62mg')\n",
    "job_result = job.result()\n",
    "\n",
    "for idx, pub_result in enumerate(job_result):\n",
    "    print(f\"Expectation values for pub {idx}: {pub_result.data.evs}\")"
   ]
  }
 ],
 "metadata": {
  "kernelspec": {
   "display_name": "Python 3 (ipykernel)",
   "language": "python",
   "name": "python3"
  },
  "language_info": {
   "codemirror_mode": {
    "name": "ipython",
    "version": 3
   },
   "file_extension": ".py",
   "mimetype": "text/x-python",
   "name": "python",
   "nbconvert_exporter": "python",
   "pygments_lexer": "ipython3",
   "version": "3.12.3"
  }
 },
 "nbformat": 4,
 "nbformat_minor": 5
}
